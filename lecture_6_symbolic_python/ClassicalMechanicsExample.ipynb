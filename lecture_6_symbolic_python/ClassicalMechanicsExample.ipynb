{
 "cells": [
  {
   "cell_type": "code",
   "execution_count": 1,
   "id": "de7f61c1",
   "metadata": {},
   "outputs": [],
   "source": [
    "import sympy as sp\n",
    "from matplotlib import pyplot as plt\n",
    "import numpy as np\n",
    "\n",
    "from sympy import init_printing\n",
    "init_printing()"
   ]
  },
  {
   "cell_type": "markdown",
   "id": "2482332b",
   "metadata": {},
   "source": [
    "# Classical mechanics with SymPy\n",
    "SymPy is great for automating a log of the machinery of classical Lagrangian and Hamiltonian mechanics. (Great enough for someone to build an entire [celestial mechanics package](https://celmech.readthedocs.io/en/latest/) on top of SymPy's capabilities for automating mechanics...)\n",
    "\n",
    "In this example, we'll use sympy to generate equations of motion for a simple pendulum, turn these equations into callable functions, then numerically integrate the system."
   ]
  },
  {
   "cell_type": "markdown",
   "id": "2e3b57cd",
   "metadata": {},
   "source": [
    "## Simple Pendulum\n",
    "\n",
    "We'll start by constructing the Lagrangian for a pendulum with mass $m$, length $l$, subject to a gravitational accelration $-g$. We'll use the angular displacement of the pendulum, $\\theta$ as our generalized coordinate. "
   ]
  },
  {
   "cell_type": "markdown",
   "id": "40babde8",
   "metadata": {},
   "source": [
    "### Lagrangian formulation"
   ]
  },
  {
   "cell_type": "markdown",
   "id": "99303953",
   "metadata": {},
   "source": [
    "First we'll create our variables:"
   ]
  },
  {
   "cell_type": "code",
   "execution_count": 2,
   "id": "cd0ef2f3",
   "metadata": {},
   "outputs": [],
   "source": [
    "theta_dot = sp.symbols(r\"\\dot{\\theta}\",real= True)\n",
    "p,theta,t = sp.symbols(\"p,theta,t\",real=True)\n",
    "l,g,m = sp.symbols(\"l,g,m\",positive=True)"
   ]
  },
  {
   "cell_type": "markdown",
   "id": "e03365c0",
   "metadata": {},
   "source": [
    "Now we'll create expressions for the kinetic energy, $T$, and potential energy, $V$, which we then combine to get the Lagrangian, $L(\\theta,\\dot{\\theta}) = T(\\dot{\\theta})-V(\\theta)$ "
   ]
  },
  {
   "cell_type": "code",
   "execution_count": 3,
   "id": "d679e9ec",
   "metadata": {},
   "outputs": [],
   "source": [
    "KE = m * l*l*theta_dot*theta_dot/sp.S(2)\n",
    "PE = m * g * l * (1 - sp.cos(theta))\n",
    "lagrangian = KE - PE"
   ]
  },
  {
   "cell_type": "code",
   "execution_count": 4,
   "id": "fd65ebbd",
   "metadata": {},
   "outputs": [
    {
     "data": {
      "image/png": "[encoded data removed]",
      "text/latex": [
       "$\\displaystyle \\frac{\\dot{\\theta}^{2} l^{2} m}{2} - g l m \\left(1 - \\cos{\\left(\\theta \\right)}\\right)$"
      ],
      "text/plain": [
       "            2  2                       \n",
       "\\dot{\\theta} ⋅l ⋅m                     \n",
       "────────────────── - g⋅l⋅m⋅(1 - cos(θ))\n",
       "        2                              "
      ]
     },
     "execution_count": 4,
     "metadata": {},
     "output_type": "execute_result"
    }
   ],
   "source": [
    "lagrangian"
   ]
  },
  {
   "cell_type": "markdown",
   "id": "5887d6d2",
   "metadata": {},
   "source": [
    "### Hamiltonian formulation\n",
    "Recall that the Hamiltonian formulation is obtained form the Lagrangian formulation via a so-called Legendre transform, where we \n",
    "\n",
    "- (i) define a new momentum variable, $p = \\frac{\\partial }{\\partial \\dot{\\theta}} L(\\theta,\\dot{\\theta}) $\n",
    "- (ii) Solve for $\\dot\\theta(p)$ by inverting the above equation \n",
    "- (iii)  Obtain the Hamiltonian as $H(\\theta,p) = p\\cdot\\dot\\theta(p) - L(\\theta,\\dot\\theta(p))$"
   ]
  },
  {
   "cell_type": "code",
   "execution_count": 5,
   "id": "abe0d28f",
   "metadata": {},
   "outputs": [
    {
     "data": {
      "image/png": "[encoded data removed]",
      "text/latex": [
       "$\\displaystyle p = \\dot{\\theta} l^{2} m$"
      ],
      "text/plain": [
       "                  2  \n",
       "p = \\dot{\\theta}⋅l ⋅m"
      ]
     },
     "execution_count": 5,
     "metadata": {},
     "output_type": "execute_result"
    }
   ],
   "source": [
    "to_solve = sp.Eq(p , sp.diff(lagrangian,theta_dot))\n",
    "to_solve"
   ]
  },
  {
   "cell_type": "code",
   "execution_count": 6,
   "id": "7106ba83",
   "metadata": {},
   "outputs": [
    {
     "data": {
      "image/png": "[encoded data removed]",
      "text/latex": [
       "$\\displaystyle \\frac{p}{l^{2} m}$"
      ],
      "text/plain": [
       " p  \n",
       "────\n",
       " 2  \n",
       "l ⋅m"
      ]
     },
     "execution_count": 6,
     "metadata": {},
     "output_type": "execute_result"
    }
   ],
   "source": [
    "# get our solution\n",
    "theta_dot_soln = sp.solve(to_solve,theta_dot)[0]\n",
    "theta_dot_soln"
   ]
  },
  {
   "cell_type": "markdown",
   "id": "45d02277",
   "metadata": {},
   "source": [
    "Construct the Hamiltonian"
   ]
  },
  {
   "cell_type": "code",
   "execution_count": 7,
   "id": "e1e63138",
   "metadata": {},
   "outputs": [],
   "source": [
    "hamiltonian = (theta_dot * p - lagrangian).subs({theta_dot:theta_dot_soln})"
   ]
  },
  {
   "cell_type": "code",
   "execution_count": 8,
   "id": "661cc4ff",
   "metadata": {},
   "outputs": [
    {
     "data": {
      "image/png": "[encoded data removed]",
      "text/latex": [
       "$\\displaystyle g l m \\left(1 - \\cos{\\left(\\theta \\right)}\\right) + \\frac{p^{2}}{2 l^{2} m}$"
      ],
      "text/plain": [
       "                        2  \n",
       "                       p   \n",
       "g⋅l⋅m⋅(1 - cos(θ)) + ──────\n",
       "                        2  \n",
       "                     2⋅l ⋅m"
      ]
     },
     "execution_count": 8,
     "metadata": {},
     "output_type": "execute_result"
    }
   ],
   "source": [
    "hamiltonian"
   ]
  },
  {
   "cell_type": "markdown",
   "id": "1ffc416d",
   "metadata": {},
   "source": [
    "### Hamiltonian equations of motion\n",
    "\n",
    "Hamilton's equations are \n",
    "$$\n",
    "\\begin{eqnarray}\n",
    "\\frac{d}{dt}\\theta &=& \\partial_{p} H(\\theta,p)\n",
    "\\\\\n",
    "\\frac{d}{dt}p &=&  - \\partial_{\\theta} H(\\theta,p)\n",
    "\\end{eqnarray}\n",
    "$$"
   ]
  },
  {
   "cell_type": "markdown",
   "id": "97383c2d",
   "metadata": {},
   "source": [
    "Get the right-hand side of these equations as a vector "
   ]
  },
  {
   "cell_type": "code",
   "execution_count": 9,
   "id": "69087a22",
   "metadata": {},
   "outputs": [],
   "source": [
    "flow = sp.Matrix([sp.diff(hamiltonian,p),-1* sp.diff(hamiltonian,theta)])"
   ]
  },
  {
   "cell_type": "code",
   "execution_count": 10,
   "id": "8af6ef0c",
   "metadata": {},
   "outputs": [
    {
     "data": {
      "image/png": "[encoded data removed]",
      "text/latex": [
       "$\\displaystyle \\left[\\begin{matrix}\\frac{p}{l^{2} m}\\\\- g l m \\sin{\\left(\\theta \\right)}\\end{matrix}\\right]$"
      ],
      "text/plain": [
       "⎡     p       ⎤\n",
       "⎢    ────     ⎥\n",
       "⎢     2       ⎥\n",
       "⎢    l ⋅m     ⎥\n",
       "⎢             ⎥\n",
       "⎣-g⋅l⋅m⋅sin(θ)⎦"
      ]
     },
     "execution_count": 10,
     "metadata": {},
     "output_type": "execute_result"
    }
   ],
   "source": [
    "flow"
   ]
  },
  {
   "cell_type": "markdown",
   "id": "a1593b92",
   "metadata": {},
   "source": [
    "### Integration\n",
    "We now have an ordinary differential equation for $(\\theta,p)$ in symbolic form.\n",
    "\n",
    "We could try to go about deducing an analytic solution, but who has time for learning elliptic integrals? Instead, we're going to turn our symbolic expressions into callable functions that we'll then feed to an ODE solver to generate a numerical solution.\n",
    "\n",
    "We'll use scipy's `solve_ivp` function to integrate; let's see what we need to pass it:"
   ]
  },
  {
   "cell_type": "code",
   "execution_count": 11,
   "id": "56e89129",
   "metadata": {},
   "outputs": [],
   "source": [
    "from scipy.integrate import solve_ivp"
   ]
  },
  {
   "cell_type": "code",
   "execution_count": null,
   "id": "58da5b35",
   "metadata": {
    "scrolled": true
   },
   "outputs": [],
   "source": [
    "help(solve_ivp)"
   ]
  },
  {
   "cell_type": "code",
   "execution_count": 12,
   "id": "4971c542",
   "metadata": {},
   "outputs": [
    {
     "data": {
      "image/png": "[encoded data removed]",
      "text/latex": [
       "$\\displaystyle \\left[\\begin{matrix}\\frac{p}{l^{2} m}\\\\- g l m \\sin{\\left(\\theta \\right)}\\end{matrix}\\right]$"
      ],
      "text/plain": [
       "⎡     p       ⎤\n",
       "⎢    ────     ⎥\n",
       "⎢     2       ⎥\n",
       "⎢    l ⋅m     ⎥\n",
       "⎢             ⎥\n",
       "⎣-g⋅l⋅m⋅sin(θ)⎦"
      ]
     },
     "execution_count": 12,
     "metadata": {},
     "output_type": "execute_result"
    }
   ],
   "source": [
    "flow"
   ]
  },
  {
   "cell_type": "markdown",
   "id": "59490943",
   "metadata": {},
   "source": [
    "Looking at the `solve_ivp` documentation, we need a function that takes the time and a state vector, $y$, possibly along with some other arguments, `args`, and returns $dy/dt$. \n",
    "\n",
    "SymPy's `lambidfy` can give us something like this:"
   ]
  },
  {
   "cell_type": "code",
   "execution_count": 13,
   "id": "e26263be",
   "metadata": {},
   "outputs": [],
   "source": [
    "flow_func = sp.lambdify((t,theta,p,g,l,m),flow)"
   ]
  },
  {
   "cell_type": "code",
   "execution_count": 14,
   "id": "cc6f59d2",
   "metadata": {},
   "outputs": [],
   "source": [
    "Ng = 9.8 # numerical value for  grav. accelration\n",
    "Nl = 1  # pendulum length, in meters\n",
    "Nm = 0.5 # pendulum mass, in kg\n",
    "\n",
    "theta0 = np.pi/2 # initial theta\n",
    "p0 = 0 # initial p value"
   ]
  },
  {
   "cell_type": "markdown",
   "id": "eff05c07",
   "metadata": {},
   "source": [
    "This has given us a function that we can call:"
   ]
  },
  {
   "cell_type": "code",
   "execution_count": 15,
   "id": "c0904e56",
   "metadata": {},
   "outputs": [
    {
     "data": {
      "text/plain": [
       "array([[ 0. ],\n",
       "       [-4.9]])"
      ]
     },
     "execution_count": 15,
     "metadata": {},
     "output_type": "execute_result"
    }
   ],
   "source": [
    "flow_func(0,theta0,p0,Ng,Nl,Nm)"
   ]
  },
  {
   "cell_type": "markdown",
   "id": "75738736",
   "metadata": {},
   "source": [
    "... that agree with substituting numerical values in our original expression:"
   ]
  },
  {
   "cell_type": "code",
   "execution_count": 16,
   "id": "c5ab385b",
   "metadata": {},
   "outputs": [
    {
     "data": {
      "image/png": "[encoded data removed]",
      "text/latex": [
       "$\\displaystyle \\left[\\begin{matrix}0\\\\-4.9\\end{matrix}\\right]$"
      ],
      "text/plain": [
       "⎡ 0  ⎤\n",
       "⎢    ⎥\n",
       "⎣-4.9⎦"
      ]
     },
     "execution_count": 16,
     "metadata": {},
     "output_type": "execute_result"
    }
   ],
   "source": [
    "flow.subs({g:Ng,l:Nl,m:Nm,p:0,theta:np.pi/2})"
   ]
  },
  {
   "cell_type": "markdown",
   "id": "c74bd466",
   "metadata": {},
   "source": [
    "Our `flow_func` isn't exactly in the form called for by `solve_ivp`, but we can easily make a wrapper that conforms to what `solve_ivp` asks for:"
   ]
  },
  {
   "cell_type": "code",
   "execution_count": 17,
   "id": "ceddf0d7",
   "metadata": {},
   "outputs": [],
   "source": [
    "fn = lambda t,y: flow_func(t,*y,Ng,Nl,Nm).reshape(-1)"
   ]
  },
  {
   "cell_type": "code",
   "execution_count": 18,
   "id": "7661bec2",
   "metadata": {},
   "outputs": [
    {
     "data": {
      "text/plain": [
       "array([ 0. , -4.9])"
      ]
     },
     "execution_count": 18,
     "metadata": {},
     "output_type": "execute_result"
    }
   ],
   "source": [
    "y0 = (theta0,p0)\n",
    "\n",
    "fn(0,y0)"
   ]
  },
  {
   "cell_type": "markdown",
   "id": "001b41d5",
   "metadata": {},
   "source": [
    "### Integrate"
   ]
  },
  {
   "cell_type": "code",
   "execution_count": 19,
   "id": "7e28eee2",
   "metadata": {},
   "outputs": [
    {
     "data": {
      "text/plain": [
       "  message: 'The solver successfully reached the end of the integration interval.'\n",
       "     nfev: 254\n",
       "     njev: 0\n",
       "      nlu: 0\n",
       "      sol: None\n",
       "   status: 0\n",
       "  success: True\n",
       "        t: array([ 0.        ,  0.07874016,  0.15748031,  0.23622047,  0.31496063,\n",
       "        0.39370079,  0.47244094,  0.5511811 ,  0.62992126,  0.70866142,\n",
       "        0.78740157,  0.86614173,  0.94488189,  1.02362205,  1.1023622 ,\n",
       "        1.18110236,  1.25984252,  1.33858268,  1.41732283,  1.49606299,\n",
       "        1.57480315,  1.65354331,  1.73228346,  1.81102362,  1.88976378,\n",
       "        1.96850394,  2.04724409,  2.12598425,  2.20472441,  2.28346457,\n",
       "        2.36220472,  2.44094488,  2.51968504,  2.5984252 ,  2.67716535,\n",
       "        2.75590551,  2.83464567,  2.91338583,  2.99212598,  3.07086614,\n",
       "        3.1496063 ,  3.22834646,  3.30708661,  3.38582677,  3.46456693,\n",
       "        3.54330709,  3.62204724,  3.7007874 ,  3.77952756,  3.85826772,\n",
       "        3.93700787,  4.01574803,  4.09448819,  4.17322835,  4.2519685 ,\n",
       "        4.33070866,  4.40944882,  4.48818898,  4.56692913,  4.64566929,\n",
       "        4.72440945,  4.80314961,  4.88188976,  4.96062992,  5.03937008,\n",
       "        5.11811024,  5.19685039,  5.27559055,  5.35433071,  5.43307087,\n",
       "        5.51181102,  5.59055118,  5.66929134,  5.7480315 ,  5.82677165,\n",
       "        5.90551181,  5.98425197,  6.06299213,  6.14173228,  6.22047244,\n",
       "        6.2992126 ,  6.37795276,  6.45669291,  6.53543307,  6.61417323,\n",
       "        6.69291339,  6.77165354,  6.8503937 ,  6.92913386,  7.00787402,\n",
       "        7.08661417,  7.16535433,  7.24409449,  7.32283465,  7.4015748 ,\n",
       "        7.48031496,  7.55905512,  7.63779528,  7.71653543,  7.79527559,\n",
       "        7.87401575,  7.95275591,  8.03149606,  8.11023622,  8.18897638,\n",
       "        8.26771654,  8.34645669,  8.42519685,  8.50393701,  8.58267717,\n",
       "        8.66141732,  8.74015748,  8.81889764,  8.8976378 ,  8.97637795,\n",
       "        9.05511811,  9.13385827,  9.21259843,  9.29133858,  9.37007874,\n",
       "        9.4488189 ,  9.52755906,  9.60629921,  9.68503937,  9.76377953,\n",
       "        9.84251969,  9.92125984, 10.        ])\n",
       " t_events: None\n",
       "        y: array([[ 1.57079633,  1.540427  ,  1.44932989,  1.29804481,  1.08789451,\n",
       "         0.82455196,  0.51803616,  0.18195261, -0.16650668, -0.50656322,\n",
       "        -0.81623112, -1.08214865, -1.29480232, -1.44818027, -1.53990175,\n",
       "        -1.57071106, -1.54060397, -1.44968828, -1.2987248 , -1.08927826,\n",
       "        -0.82631344, -0.51959196, -0.18292933,  0.16582121,  0.50482017,\n",
       "         0.81386535,  1.07939303,  1.29145995,  1.44424386,  1.53621818,\n",
       "         1.56751023,  1.5379257 ,  1.44763358,  1.29716373,  1.0881867 ,\n",
       "         0.82595794,  0.52002226,  0.18421794, -0.16332321, -0.50102374,\n",
       "        -0.80985537, -1.0752228 , -1.28699709, -1.43995703, -1.53286078,\n",
       "        -1.56499272, -1.53626206, -1.44724236, -1.29771256, -1.08950256,\n",
       "        -0.82826449, -0.52347503, -0.18843546,  0.15878032,  0.49641059,\n",
       "         0.80573031,  1.07137903,  1.28369453,  1.43809859,  1.53216579,\n",
       "         1.56573452,  1.53885045,  1.45055593,  1.30168938,  1.09505204,\n",
       "         0.83540789,  0.53031093,  0.1948969 , -0.15219423, -0.49066942,\n",
       "        -0.8003084 , -1.0668922 , -1.28057159, -1.43576747, -1.5307949 ,\n",
       "        -1.5651418 , -1.53858437, -1.45130849, -1.30393944, -1.09797658,\n",
       "        -0.8383344 , -0.53435546, -0.19981587,  0.14707833,  0.48514027,\n",
       "         0.7952587 ,  1.06249875,  1.27637082,  1.43209684,  1.52782599,\n",
       "         1.56269786,  1.53704275,  1.45090909,  1.3038473 ,  1.09828225,\n",
       "         0.83973014,  0.53679847,  0.20218872, -0.14433343, -0.48248138,\n",
       "        -0.79293839, -1.06005631, -1.27469651, -1.43125704, -1.52761656,\n",
       "        -1.56344985, -1.53830178, -1.45230467, -1.30624262, -1.1016824 ,\n",
       "        -0.84321339, -0.54014281, -0.20606309,  0.14116364,  0.47968725,\n",
       "         0.79002048,  1.05779295,  1.27265601,  1.42865734,  1.5243949 ,\n",
       "         1.55946621,  1.53365822,  1.44721006,  1.30078072,  1.09564773,\n",
       "         0.8368568 ,  0.53378602,  0.20014592],\n",
       "       [ 0.        , -0.38574997, -0.77053847, -1.14902053, -1.51327838,\n",
       "        -1.83022179, -2.0648635 , -2.1922979 , -2.19770094, -2.07633022,\n",
       "        -1.84097258, -1.52832935, -1.16506471, -0.77670441, -0.38771946,\n",
       "        -0.00251496,  0.38378157,  0.76913871,  1.14719332,  1.50874954,\n",
       "         1.82735292,  2.0648621 ,  2.19389507,  2.19834249,  2.07354484,\n",
       "         1.83852859,  1.52438442,  1.16008478,  0.77578018,  0.3915556 ,\n",
       "         0.00553822, -0.38077482, -0.76513371, -1.14553668, -1.50675104,\n",
       "        -1.81868692, -2.05365809, -2.18689973, -2.19656848, -2.07170564,\n",
       "        -1.83697825, -1.52142526, -1.15918492, -0.78164554, -0.39696359,\n",
       "        -0.01081999,  0.37471799,  0.75976243,  1.13763989,  1.49397203,\n",
       "         1.80777633,  2.0514662 ,  2.1908509 ,  2.1970242 ,  2.07328065,\n",
       "         1.83719935,  1.5239285 ,  1.16768454,  0.7897745 ,  0.40474661,\n",
       "         0.019774  , -0.36423505, -0.74935449, -1.12963037, -1.4903981 ,\n",
       "        -1.80828249, -2.052549  , -2.19005838, -2.19754004, -2.07475422,\n",
       "        -1.84290032, -1.53253878, -1.17396699, -0.7948827 , -0.41096611,\n",
       "        -0.02474235,  0.3615106 ,  0.74581224,  1.12648039,  1.48740365,\n",
       "         1.80169356,  2.04249281,  2.1830698 ,  2.19691659,  2.07752632,\n",
       "         1.84668944,  1.53348936,  1.17611714,  0.79940645,  0.41468262,\n",
       "         0.02883167, -0.35652078, -0.74027999, -1.11840339, -1.47810998,\n",
       "        -1.79739025, -2.04500616, -2.18506025, -2.19680572, -2.07688197,\n",
       "        -1.84567985, -1.53737591, -1.18193785, -0.8037058 , -0.41951494,\n",
       "        -0.03433679,  0.3523295 ,  0.7378402 ,  1.11608644,  1.47831147,\n",
       "         1.79978151,  2.04317343,  2.18059556,  2.1943345 ,  2.07783253,\n",
       "         1.85006739,  1.54019034,  1.17895328,  0.79941154,  0.41552901,\n",
       "         0.02934011, -0.35654799, -0.74097838, -1.12035247, -1.47893533,\n",
       "        -1.79433982, -2.03892055, -2.17977385]])\n",
       " y_events: None"
      ]
     },
     "execution_count": 19,
     "metadata": {},
     "output_type": "execute_result"
    }
   ],
   "source": [
    "Tfin = 10\n",
    "Nout = 128\n",
    "times = np.linspace(0,Tfin,Nout)\n",
    "\n",
    "soln = solve_ivp(\n",
    "    fn,\n",
    "    (0,Tfin),\n",
    "    y0,\n",
    "    t_eval=times\n",
    ")\n",
    "soln"
   ]
  },
  {
   "cell_type": "markdown",
   "id": "bbd19b33",
   "metadata": {},
   "source": [
    "### Plot our results"
   ]
  },
  {
   "cell_type": "code",
   "execution_count": 20,
   "id": "413e8a58",
   "metadata": {},
   "outputs": [
    {
     "data": {
      "text/plain": [
       "Text(0.5, 0, 'Time')"
      ]
     },
     "execution_count": 20,
     "metadata": {},
     "output_type": "execute_result"
    },
    {
     "data": {
      "image/png": "[encoded data removed]",
      "text/plain": [
       "<Figure size 432x288 with 1 Axes>"
      ]
     },
     "metadata": {
      "needs_background": "light"
     },
     "output_type": "display_data"
    }
   ],
   "source": [
    "plt.plot(soln.t,soln.y[0])\n",
    "plt.ylabel(r\"$\\theta$\",fontsize=16)\n",
    "plt.xlabel(r\"Time\",fontsize=16)"
   ]
  },
  {
   "cell_type": "markdown",
   "id": "d19fbc47",
   "metadata": {},
   "source": [
    "## Exercise 1\n",
    "\n",
    "Lambidfy the Hamiltonian function, `hamiltonian`, defined about and use it to plot the pendulum's energy versus time."
   ]
  },
  {
   "cell_type": "code",
   "execution_count": 21,
   "id": "7a2cee38",
   "metadata": {},
   "outputs": [],
   "source": [
    "ham_func = sp.lambdify((theta,p,g,l,m),hamiltonian)"
   ]
  },
  {
   "cell_type": "code",
   "execution_count": 22,
   "id": "9a66b185",
   "metadata": {},
   "outputs": [
    {
     "data": {
      "text/plain": [
       "[<matplotlib.lines.Line2D at 0x1701aa65580>]"
      ]
     },
     "execution_count": 22,
     "metadata": {},
     "output_type": "execute_result"
    },
    {
     "data": {
      "image/png": "[encoded data removed]",
      "text/plain": [
       "<Figure size 432x288 with 1 Axes>"
      ]
     },
     "metadata": {
      "needs_background": "light"
     },
     "output_type": "display_data"
    }
   ],
   "source": [
    "E = ham_func(soln.y[0],soln.y[1],Ng,Nl,Nm)\n",
    "dE = np.abs(E/np.mean(E)-1)\n",
    "plt.plot(soln.t,dE)"
   ]
  },
  {
   "cell_type": "markdown",
   "id": "c065af9d",
   "metadata": {},
   "source": [
    "## Getting the Jacobian for numerical integration\n",
    "\n",
    "From the `solve_ivp` help documentation, we see that we can optionally pass the Jacobian of our flow as the `jac` parameter, which is used by some integration methods. In particular, implicit methods, are often improved by inclusion of Jacobian information.  \n",
    "\n",
    "Furthermore, implicit methods usually have much better energy conservation properties for Hamiltonian systems. This is not so important for our simple pendulum example, but can often be important for more complicated systems you may encounter in astrodynamics."
   ]
  },
  {
   "cell_type": "code",
   "execution_count": 23,
   "id": "0d55a7aa",
   "metadata": {},
   "outputs": [
    {
     "data": {
      "image/png": "[encoded data removed]",
      "text/latex": [
       "$\\displaystyle \\left[\\begin{matrix}0 & \\frac{1}{l^{2} m}\\\\- g l m \\cos{\\left(\\theta \\right)} & 0\\end{matrix}\\right]$"
      ],
      "text/plain": [
       "⎡                1  ⎤\n",
       "⎢      0        ────⎥\n",
       "⎢                2  ⎥\n",
       "⎢               l ⋅m⎥\n",
       "⎢                   ⎥\n",
       "⎣-g⋅l⋅m⋅cos(θ)   0  ⎦"
      ]
     },
     "execution_count": 23,
     "metadata": {},
     "output_type": "execute_result"
    }
   ],
   "source": [
    "qp_vars = (theta,p)\n",
    "flow_jacobian = sp.Matrix(2,2,lambda i,j: sp.diff(flow[i],qp_vars[j]))\n",
    "flow_jacobian"
   ]
  },
  {
   "cell_type": "markdown",
   "id": "5e850f17",
   "metadata": {},
   "source": [
    "Let's lambidfy again:"
   ]
  },
  {
   "cell_type": "code",
   "execution_count": 24,
   "id": "2e220b96",
   "metadata": {},
   "outputs": [],
   "source": [
    "jacobian_func  = sp.lambdify((t,theta,p,g,l,m),flow_jacobian)"
   ]
  },
  {
   "cell_type": "code",
   "execution_count": 25,
   "id": "74121bb5",
   "metadata": {},
   "outputs": [],
   "source": [
    "fn = lambda t,y: flow_func(t,*y,Ng,Nl,Nm).reshape(-1)\n",
    "Dfn = lambda t,y: jacobian_func(t,*y,Ng,Nl,Nm)"
   ]
  },
  {
   "cell_type": "code",
   "execution_count": null,
   "id": "c9fba112",
   "metadata": {},
   "outputs": [],
   "source": [
    "Dfn(0,y0)"
   ]
  },
  {
   "cell_type": "code",
   "execution_count": 26,
   "id": "082b5c43",
   "metadata": {
    "scrolled": true
   },
   "outputs": [
    {
     "data": {
      "text/plain": [
       "  message: 'The solver successfully reached the end of the integration interval.'\n",
       "     nfev: 494\n",
       "     njev: 18\n",
       "      nlu: 58\n",
       "      sol: None\n",
       "   status: 0\n",
       "  success: True\n",
       "        t: array([ 0.        ,  0.07874016,  0.15748031,  0.23622047,  0.31496063,\n",
       "        0.39370079,  0.47244094,  0.5511811 ,  0.62992126,  0.70866142,\n",
       "        0.78740157,  0.86614173,  0.94488189,  1.02362205,  1.1023622 ,\n",
       "        1.18110236,  1.25984252,  1.33858268,  1.41732283,  1.49606299,\n",
       "        1.57480315,  1.65354331,  1.73228346,  1.81102362,  1.88976378,\n",
       "        1.96850394,  2.04724409,  2.12598425,  2.20472441,  2.28346457,\n",
       "        2.36220472,  2.44094488,  2.51968504,  2.5984252 ,  2.67716535,\n",
       "        2.75590551,  2.83464567,  2.91338583,  2.99212598,  3.07086614,\n",
       "        3.1496063 ,  3.22834646,  3.30708661,  3.38582677,  3.46456693,\n",
       "        3.54330709,  3.62204724,  3.7007874 ,  3.77952756,  3.85826772,\n",
       "        3.93700787,  4.01574803,  4.09448819,  4.17322835,  4.2519685 ,\n",
       "        4.33070866,  4.40944882,  4.48818898,  4.56692913,  4.64566929,\n",
       "        4.72440945,  4.80314961,  4.88188976,  4.96062992,  5.03937008,\n",
       "        5.11811024,  5.19685039,  5.27559055,  5.35433071,  5.43307087,\n",
       "        5.51181102,  5.59055118,  5.66929134,  5.7480315 ,  5.82677165,\n",
       "        5.90551181,  5.98425197,  6.06299213,  6.14173228,  6.22047244,\n",
       "        6.2992126 ,  6.37795276,  6.45669291,  6.53543307,  6.61417323,\n",
       "        6.69291339,  6.77165354,  6.8503937 ,  6.92913386,  7.00787402,\n",
       "        7.08661417,  7.16535433,  7.24409449,  7.32283465,  7.4015748 ,\n",
       "        7.48031496,  7.55905512,  7.63779528,  7.71653543,  7.79527559,\n",
       "        7.87401575,  7.95275591,  8.03149606,  8.11023622,  8.18897638,\n",
       "        8.26771654,  8.34645669,  8.42519685,  8.50393701,  8.58267717,\n",
       "        8.66141732,  8.74015748,  8.81889764,  8.8976378 ,  8.97637795,\n",
       "        9.05511811,  9.13385827,  9.21259843,  9.29133858,  9.37007874,\n",
       "        9.4488189 ,  9.52755906,  9.60629921,  9.68503937,  9.76377953,\n",
       "        9.84251969,  9.92125984, 10.        ])\n",
       " t_events: None\n",
       "        y: array([[ 1.57079633,  1.54044175,  1.4493195 ,  1.29817498,  1.08841757,\n",
       "         0.82559548,  0.51818851,  0.18137933, -0.16634515, -0.50412247,\n",
       "        -0.81293894, -1.07808984, -1.29010648, -1.44395924, -1.53768825,\n",
       "        -1.57070606, -1.54297695, -1.45450257, -1.30591059, -1.09865068,\n",
       "        -0.83800291, -0.53222605, -0.19631759,  0.15131708,  0.48994535,\n",
       "         0.80033018,  1.06763376,  1.28206626,  1.43849972,  1.53485071,\n",
       "         1.57049924,  1.54539967,  1.45955176,  1.3135369 ,  1.10874812,\n",
       "         0.85027216,  0.54617892,  0.21122429, -0.13632233, -0.47575838,\n",
       "        -0.78769245, -1.05710179, -1.27394472, -1.43294287, -1.5319077 ,\n",
       "        -1.57017919, -1.5477025 , -1.46447297, -1.3210356 , -1.11871258,\n",
       "        -0.86242176, -0.56003208, -0.2260685 ,  0.12135687,  0.46156347,\n",
       "         0.77501526,  1.04649989,  1.26574025,  1.42728942,  1.52886028,\n",
       "         1.56974696,  1.54988615,  1.4692673 ,  1.32840598,  1.1285451 ,\n",
       "         0.87445161,  0.57378447,  0.24084628, -0.10642205, -0.44734929,\n",
       "        -0.76229936, -1.03583006, -1.25745394, -1.42154052, -1.52570953,\n",
       "        -1.56920359, -1.55195146, -1.47393581, -1.33564778, -1.1382466 ,\n",
       "        -0.88636106, -0.58743543, -0.25555523,  0.09151951,  0.43312006,\n",
       "         0.74954594,  1.02509406,  1.24908687,  1.41569733,  1.5224565 ,\n",
       "         1.56855008,  1.55389934,  1.4784795 ,  1.34276107,  1.14781789,\n",
       "         0.89814935,  0.60098447,  0.27019351, -0.07665096, -0.4188965 ,\n",
       "        -0.73675635, -1.01429353, -1.24064015, -1.40976106, -1.51910222,\n",
       "        -1.56778745, -1.55573069, -1.48289935, -1.34974606, -1.15725974,\n",
       "        -0.90981571, -0.61443116, -0.28475958,  0.06181811,  0.40467041,\n",
       "         0.7239321 ,  1.00343004,  1.23211487,  1.40373289,  1.5156477 ,\n",
       "         1.56691669,  1.55744644,  1.48719633,  1.35660308,  1.16657286,\n",
       "         0.92135944,  0.62777506,  0.29927535],\n",
       "       [ 0.        , -0.38572943, -0.77063375, -1.14862488, -1.50774747,\n",
       "        -1.82320055, -2.06287392, -2.19538563, -2.1980723 , -2.0712711 ,\n",
       "        -1.83519491, -1.52236513, -1.16492883, -0.78721784, -0.40252239,\n",
       "        -0.01675242,  0.3690614 ,  0.75394904,  1.13254606,  1.49285357,\n",
       "         1.81076272,  2.05445518,  2.19257284,  2.20055175,  2.07923333,\n",
       "         1.84725237,  1.53702047,  1.1809798 ,  0.8037817 ,  0.41921825,\n",
       "         0.03345823, -0.35236318, -0.73734422, -1.11641713, -1.47792185,\n",
       "        -1.79822886, -2.04587545, -2.18923187, -2.20286698, -2.08694222,\n",
       "        -1.85911523, -1.55155812, -1.19693092, -0.82028711, -0.43586346,\n",
       "        -0.05011654,  0.33570777,  0.72078206,  1.10029178,  1.46296305,\n",
       "         1.78560775,  2.0371174 ,  2.18561546,  2.2049464 ,  2.09441931,\n",
       "         1.87079294,  1.56596954,  1.21278956,  0.83673454,  0.4524578 ,\n",
       "         0.06672726, -0.3190968 , -0.7042619 , -1.08417483, -1.44797913,\n",
       "        -1.7728999 , -2.02818623, -2.1817462 , -2.20678537, -2.10166261,\n",
       "        -1.8822855 , -1.58025208, -1.22855534, -0.85312312, -0.46900097,\n",
       "        -0.08329029,  0.30253132,  0.68778357,  1.06807027,  1.43297195,\n",
       "         1.76010655,  2.01908756,  2.17763453,  2.20838235,  2.10866975,\n",
       "         1.89359215,  1.59440355,  1.24422785,  0.86945178,  0.48549274,\n",
       "         0.09980554, -0.28601204, -0.67134719, -1.05198148, -1.41794333,\n",
       "        -1.74722973, -2.00982678, -2.17328563, -2.20973755, -2.11544454,\n",
       "        -1.9047118 , -1.60842199, -1.2598066 , -0.88571938, -0.50193293,\n",
       "        -0.11627292,  0.2695395 ,  0.65495293,  1.03591144,  1.40289515,\n",
       "         1.73427196,  2.00040901,  2.16870227,  2.21085198,  2.12198291,\n",
       "         1.91564321,  1.62230553,  1.27529104,  0.90192473,  0.5183214 ,\n",
       "         0.13269231, -0.25311414, -0.63860102, -1.01986286, -1.38782933,\n",
       "        -1.72123604, -1.99083909, -2.16351103]])\n",
       " y_events: None"
      ]
     },
     "execution_count": 26,
     "metadata": {},
     "output_type": "execute_result"
    }
   ],
   "source": [
    "Tfin = 10\n",
    "Nout = 128\n",
    "times = np.linspace(0,Tfin,Nout)\n",
    "\n",
    "soln = solve_ivp(\n",
    "    fn,\n",
    "    (0,Tfin),\n",
    "    y0,\n",
    "    t_eval=times,\n",
    "    jac = Dfn,\n",
    "    method='Radau'\n",
    ")\n",
    "soln"
   ]
  },
  {
   "cell_type": "markdown",
   "id": "09c6b41e",
   "metadata": {},
   "source": [
    "## Exercise 1.5\n",
    "Using your lambdified Hamiltonian, confirm that the implicit Radau method that we just used has better energy conservation than our original solution\n"
   ]
  },
  {
   "cell_type": "code",
   "execution_count": null,
   "id": "1af3da6c",
   "metadata": {},
   "outputs": [],
   "source": []
  },
  {
   "cell_type": "markdown",
   "id": "ca0a4db8",
   "metadata": {},
   "source": [
    "# The small angle approximation with `sympy.series`\n",
    "\n",
    "When the maximum value of $\\theta$ is small, the pendulum can be approximated as a harmonic oscillator. We'll use `sympy` to derive this harmonic oscillator solution."
   ]
  },
  {
   "cell_type": "markdown",
   "id": "a48d139b",
   "metadata": {},
   "source": [
    "First, we use `sympy.series` to get an approximate Hamiltonian:"
   ]
  },
  {
   "cell_type": "code",
   "execution_count": null,
   "id": "7a52e853",
   "metadata": {},
   "outputs": [],
   "source": [
    "hamiltonian_small_theta = sp.series(hamiltonian,theta,x0=0,n=3)\n",
    "hamiltonian_small_theta"
   ]
  },
  {
   "cell_type": "markdown",
   "id": "905bb789",
   "metadata": {},
   "source": [
    "We can get rid of the `bigO` term with the `removeO` method:"
   ]
  },
  {
   "cell_type": "code",
   "execution_count": null,
   "id": "792617e0",
   "metadata": {},
   "outputs": [],
   "source": [
    "hamiltonian_small_theta=hamiltonian_small_theta.removeO()\n",
    "hamiltonian_small_theta"
   ]
  },
  {
   "cell_type": "markdown",
   "id": "5b0ad5c1",
   "metadata": {},
   "source": [
    "`sympy`'s `dsolve` method can solve (some) ODEs.\n",
    "In order to use it, we need to represent our dynamical variables, $\\theta$ and $p$, as `sympy.Functions` rather than simple `Symbols`."
   ]
  },
  {
   "cell_type": "code",
   "execution_count": null,
   "id": "a36eed73",
   "metadata": {},
   "outputs": [],
   "source": [
    "theta_fn, p_fn = sp.symbols(\"theta,p\",cls=sp.Function)\n",
    "theta_fn,p_fn"
   ]
  },
  {
   "cell_type": "code",
   "execution_count": null,
   "id": "6129732a",
   "metadata": {},
   "outputs": [],
   "source": [
    "type(theta),type(theta_fn)"
   ]
  },
  {
   "cell_type": "markdown",
   "id": "bef51fa9",
   "metadata": {},
   "source": [
    "After getting our equtaions of motion using Hamilton's equations, $\\dot{\\theta} = \\partial_{p}H$ and $\\dot{ p} = -\\partial_{\\theta}H$, we need to replace the occurences of our variables `theta` and `p` with their function versions, `theta_fn` and `p_fn` in order to have differntial equations in the form required by `dsolve`."
   ]
  },
  {
   "cell_type": "code",
   "execution_count": null,
   "id": "5a3eebd5",
   "metadata": {},
   "outputs": [],
   "source": [
    "subsrule = {p:p_fn(t),theta:theta_fn(t)}\n",
    "subsrule"
   ]
  },
  {
   "cell_type": "markdown",
   "id": "b83ac074",
   "metadata": {},
   "source": [
    "We apply Hamilton's equations and make the appropriate substitutions:"
   ]
  },
  {
   "cell_type": "code",
   "execution_count": null,
   "id": "cb38653e",
   "metadata": {},
   "outputs": [],
   "source": [
    "eq1 =  sp.Eq(\n",
    "    sp.Derivative(theta_fn(t),t),\n",
    "    sp.diff(hamiltonian_small_theta,p).subs(subsrule)\n",
    ")\n",
    "\n",
    "eq2 = sp.Eq(\n",
    "    sp.Derivative(p_fn(t),t),\n",
    "    -sp.diff(hamiltonian_small_theta,theta).subs(subsrule)\n",
    ")\n",
    "eqs = (eq1,eq2)\n",
    "eqs "
   ]
  },
  {
   "cell_type": "markdown",
   "id": "886a0b02",
   "metadata": {},
   "source": [
    "Set our initital conditions:"
   ]
  },
  {
   "cell_type": "code",
   "execution_count": null,
   "id": "05ee753e",
   "metadata": {},
   "outputs": [],
   "source": [
    "ics = {theta_fn(0):sp.pi/2,p_fn(0):0}\n",
    "ics"
   ]
  },
  {
   "cell_type": "markdown",
   "id": "08d83825",
   "metadata": {},
   "source": [
    "... and derive our soulution:"
   ]
  },
  {
   "cell_type": "code",
   "execution_count": null,
   "id": "0e3b50b5",
   "metadata": {},
   "outputs": [],
   "source": [
    "small_angle_soln = sp.dsolve(eqs,[theta_fn(t),p_fn(t)],ics=ics)\n",
    "small_angle_soln"
   ]
  },
  {
   "cell_type": "markdown",
   "id": "6acecb4e",
   "metadata": {},
   "source": [
    "### Exercise 1.75\n",
    "Can you lambdify the small angle solution to compare it to our numerically integrated solution?"
   ]
  },
  {
   "cell_type": "code",
   "execution_count": null,
   "id": "355fab91",
   "metadata": {},
   "outputs": [],
   "source": [
    "small_angle_soln[0].rhs"
   ]
  },
  {
   "cell_type": "markdown",
   "id": "bc30a7cf",
   "metadata": {},
   "source": [
    "## Exercise 2\n",
    "\n",
    "Derive equations of motion directly from the Lagrangian, (i.e., the [Euler-Lagrange equations](https://en.wikipedia.org/wiki/Euler–Lagrange_equation)), and integrate them as we did with Hamilton's equations. "
   ]
  },
  {
   "cell_type": "code",
   "execution_count": null,
   "id": "b43c9c76",
   "metadata": {},
   "outputs": [],
   "source": []
  },
  {
   "cell_type": "markdown",
   "id": "31fb8c41",
   "metadata": {},
   "source": [
    "## Exercise 3\n",
    "\n",
    "- Can you derive and integrate Hamilton's equations of motion for the [double pendulum](https://en.wikipedia.org/wiki/Double_pendulum)? In case you need inspirartion for initial conditions, see [here](https://twitter.com/pendulum_bot?ref_src=twsrc%5Egoogle%7Ctwcamp%5Eserp%7Ctwgr%5Eauthor).\n",
    "\n",
    "- Can you get a small-angle solution for this problem?"
   ]
  },
  {
   "cell_type": "code",
   "execution_count": null,
   "id": "854c8f23",
   "metadata": {},
   "outputs": [],
   "source": []
  }
 ],
 "metadata": {
  "kernelspec": {
   "display_name": "Python 3 (ipykernel)",
   "language": "python",
   "name": "python3"
  },
  "language_info": {
   "codemirror_mode": {
    "name": "ipython",
    "version": 3
   },
   "file_extension": ".py",
   "mimetype": "text/x-python",
   "name": "python",
   "nbconvert_exporter": "python",
   "pygments_lexer": "ipython3",
   "version": "3.8.3"
  }
 },
 "nbformat": 4,
 "nbformat_minor": 5
}
