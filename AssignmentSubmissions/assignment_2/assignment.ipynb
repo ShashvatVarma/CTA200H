{
 "cells": [
  {
   "cell_type": "code",
   "execution_count": 1,
   "metadata": {},
   "outputs": [],
   "source": [
    "import numpy as np\n",
    "\n",
    "#define a function and its derivative\n",
    "def f(x):\n",
    "    return x**3 - x**2 - 1\n",
    "def df(x):\n",
    "    return 3*x**2 - 2*x"
   ]
  },
  {
   "cell_type": "markdown",
   "metadata": {},
   "source": [
    "Using these functions, we will write a root finder using Newton's method"
   ]
  },
  {
   "cell_type": "code",
   "execution_count": null,
   "metadata": {},
   "outputs": [],
   "source": [
    "def newton(f, df, x0, epsilon=1e-6, max_iter=30)\n",
    "    \"\"\"\n",
    "    Newton's method for finding a root of a function\n",
    "    f: function, The function for which we are trying to find a root\n",
    "    df: function, The derivative of the function\n",
    "    x0: float, Initial guess for the root\n",
    "    epsilon: float, The target accuracy\n",
    "    max_iter: int, The maximum number of iterations to perform\n",
    "    \"\"\"\n",
    "    i = 0   #iteration count\n",
    "    guess = x0\n",
    "    while abs(f(guess)) > epsilon and i < max_iter:\n",
    "        new_guess = guess - f(guess)/df(guess)\n",
    "        i+=1\n",
    "        guess = new_guess"
   ]
  }
 ],
 "metadata": {
  "kernelspec": {
   "display_name": "base",
   "language": "python",
   "name": "python3"
  },
  "language_info": {
   "codemirror_mode": {
    "name": "ipython",
    "version": 3
   },
   "file_extension": ".py",
   "mimetype": "text/x-python",
   "name": "python",
   "nbconvert_exporter": "python",
   "pygments_lexer": "ipython3",
   "version": "3.8.3"
  }
 },
 "nbformat": 4,
 "nbformat_minor": 2
}
