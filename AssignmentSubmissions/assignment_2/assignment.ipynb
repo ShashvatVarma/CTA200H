{
 "cells": [
  {
   "cell_type": "code",
   "execution_count": 2,
   "metadata": {},
   "outputs": [],
   "source": [
    "import numpy as np\n",
    "\n",
    "#define a function and its derivative\n",
    "def f(x):\n",
    "    return x**3 - x**2 - 1\n",
    "def df(x):\n",
    "    return 3*x**2 - 2*x"
   ]
  },
  {
   "cell_type": "markdown",
   "metadata": {},
   "source": [
    "Using these functions, we will write a root finder using Newton's method"
   ]
  },
  {
   "cell_type": "code",
   "execution_count": 4,
   "metadata": {},
   "outputs": [],
   "source": [
    "def newton(f, df, x0, epsilon=1e-6, max_iter=30):\n",
    "    \"\"\"\n",
    "    Newton's method for finding a root of a function\n",
    "\n",
    "    f: function\n",
    "        The function for which we are trying to find a root\n",
    "    df: function \n",
    "        The derivative of the function\n",
    "    x0: float\n",
    "        Initial guess for the root\n",
    "    epsilon: float\n",
    "        The target accuracy\n",
    "    max_iter: int\n",
    "        The maximum number of iterations to perform\n",
    "    \n",
    "    Returns the root found by Newton's method, or None if no root was found after max_iter iterations\n",
    "    \"\"\"\n",
    "    i = 0   #iteration count\n",
    "    guess = x0\n",
    "    while abs(f(guess)) > epsilon and i < max_iter:\n",
    "        new_guess = guess - f(guess)/df(guess)\n",
    "        #update guess and iteration number\n",
    "        i+=1\n",
    "        guess = new_guess\n",
    "    if abs(f(guess)) < epsilon:\n",
    "        print(\"Found root in \" + str(i) + \" iterations\")\n",
    "        return guess\n",
    "    if abs(f(guess)) > epsilon:\n",
    "        print(\"Iteration failed.\")\n",
    "        return None\n",
    "\n",
    "    "
   ]
  },
  {
   "cell_type": "markdown",
   "metadata": {},
   "source": [
    "Using this function, we may test out root finding. We expect the root to be around 1.466"
   ]
  },
  {
   "cell_type": "code",
   "execution_count": 7,
   "metadata": {},
   "outputs": [
    {
     "name": "stdout",
     "output_type": "stream",
     "text": [
      "Found root in 3 iterations\n",
      "1.4655712318780663\n",
      "Found root in 18 iterations\n",
      "1.465571231877988\n",
      "Iteration failed.\n",
      "None\n"
     ]
    }
   ],
   "source": [
    "root1 = newton(f, df, 1.5)\n",
    "print(root1)\n",
    "root2 = newton(f, df, -15)\n",
    "print(root2)\n",
    "root3 = newton(f, df, -7000)\n",
    "print(root3)"
   ]
  },
  {
   "cell_type": "markdown",
   "metadata": {},
   "source": [
    "Attempt to use different epsilon value to see if they stop converging (1e-8 doesnt change anything so I went to 1e-15)"
   ]
  },
  {
   "cell_type": "code",
   "execution_count": 21,
   "metadata": {},
   "outputs": [
    {
     "name": "stdout",
     "output_type": "stream",
     "text": [
      "Found root in 4 iterations\n",
      "1.4655712318767682\n",
      "Found root in 19 iterations\n",
      "1.465571231876768\n",
      "Iteration failed.\n",
      "None\n"
     ]
    }
   ],
   "source": [
    "root1 = newton(f, df, 1.5, epsilon=1e-15, max_iter=30)\n",
    "print(root1)\n",
    "root2 = newton(f, df, -15, epsilon=1e-15, max_iter=30)\n",
    "print(root2)\n",
    "root3 = newton(f, df, -7000, epsilon=1e-15, max_iter=30)\n",
    "print(root3)"
   ]
  },
  {
   "cell_type": "markdown",
   "metadata": {},
   "source": [
    "Lets see how long iterations have to run now in order to converge."
   ]
  },
  {
   "cell_type": "code",
   "execution_count": 19,
   "metadata": {},
   "outputs": [
    {
     "name": "stdout",
     "output_type": "stream",
     "text": [
      "Found root in 4 iterations\n",
      "1.4655712318767682\n",
      "Found root in 19 iterations\n",
      "1.465571231876768\n",
      "Found root in 36 iterations\n",
      "1.465571231876768\n"
     ]
    }
   ],
   "source": [
    "max_iterations = 999999\n",
    "\n",
    "root1 = newton(f, df, 1.5, epsilon=1e-15, max_iter=max_iterations)\n",
    "print(root1)\n",
    "root2 = newton(f, df, -15, epsilon=1e-15, max_iter=max_iterations)\n",
    "print(root2)\n",
    "root3 = newton(f, df, -7000, epsilon=1e-15, max_iter=max_iterations)\n",
    "print(root3)"
   ]
  }
 ],
 "metadata": {
  "kernelspec": {
   "display_name": "base",
   "language": "python",
   "name": "python3"
  },
  "language_info": {
   "codemirror_mode": {
    "name": "ipython",
    "version": 3
   },
   "file_extension": ".py",
   "mimetype": "text/x-python",
   "name": "python",
   "nbconvert_exporter": "python",
   "pygments_lexer": "ipython3",
   "version": "3.8.3"
  }
 },
 "nbformat": 4,
 "nbformat_minor": 2
}
